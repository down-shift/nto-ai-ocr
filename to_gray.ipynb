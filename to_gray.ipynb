{
 "cells": [
  {
   "cell_type": "code",
   "execution_count": 3,
   "id": "066ae676",
   "metadata": {},
   "outputs": [
    {
     "name": "stdout",
     "output_type": "stream",
     "text": [
      "Found existing installation: Pillow 9.0.0\n",
      "Uninstalling Pillow-9.0.0:\n",
      "  Would remove:\n",
      "    /home/user/conda/lib/python3.7/site-packages/PIL/*\n",
      "    /home/user/conda/lib/python3.7/site-packages/Pillow-9.0.0.dist-info/*\n",
      "    /home/user/conda/lib/python3.7/site-packages/Pillow.libs/libXau-00ec42fe.so.6.0.0\n",
      "    /home/user/conda/lib/python3.7/site-packages/Pillow.libs/libfreetype-a029e222.so.6.18.1\n",
      "    /home/user/conda/lib/python3.7/site-packages/Pillow.libs/libharfbuzz-851aa43c.so.0.30200.0\n",
      "    /home/user/conda/lib/python3.7/site-packages/Pillow.libs/libjpeg-b8a30ecc.so.62.3.0\n",
      "    /home/user/conda/lib/python3.7/site-packages/Pillow.libs/liblcms2-035b9744.so.2.0.12\n",
      "    /home/user/conda/lib/python3.7/site-packages/Pillow.libs/liblzma-d540a118.so.5.2.5\n",
      "    /home/user/conda/lib/python3.7/site-packages/Pillow.libs/libopenjp2-430a98fc.so.2.4.0\n",
      "    /home/user/conda/lib/python3.7/site-packages/Pillow.libs/libpng16-213e245f.so.16.37.0\n",
      "    /home/user/conda/lib/python3.7/site-packages/Pillow.libs/libtiff-8e99fb9e.so.5.7.0\n",
      "    /home/user/conda/lib/python3.7/site-packages/Pillow.libs/libwebp-d8a3db66.so.7.1.2\n",
      "    /home/user/conda/lib/python3.7/site-packages/Pillow.libs/libwebpdemux-f117ddb4.so.2.0.8\n",
      "    /home/user/conda/lib/python3.7/site-packages/Pillow.libs/libwebpmux-fe44437b.so.3.0.7\n",
      "    /home/user/conda/lib/python3.7/site-packages/Pillow.libs/libxcb-1122e22b.so.1.1.0\n",
      "    /home/user/conda/lib/python3.7/site-packages/Pillow.libs/libz-dd453c56.so.1.2.11\n",
      "Proceed (Y/n)? ^C\n",
      "\u001b[31mERROR: Operation cancelled by user\u001b[0m\n",
      "Collecting pillow-simd\n",
      "  Using cached Pillow-SIMD-9.0.0.post1.tar.gz (849 kB)\n",
      "^C\n",
      "  Preparing metadata (setup.py) ... \u001b[?25l\u001b[?25hcanceled\n",
      "\u001b[31mERROR: Operation cancelled by user\u001b[0m\n"
     ]
    }
   ],
   "source": [
    "!pip uninstall pillow && Y\n",
    "!CC=\"cc -mavx2\" pip install -U --force-reinstall pillow-simd"
   ]
  },
  {
   "cell_type": "code",
   "execution_count": 41,
   "id": "fd033760",
   "metadata": {},
   "outputs": [
    {
     "name": "stderr",
     "output_type": "stream",
     "text": [
      "100%|██████████| 176034/176034 [24:42<00:00, 118.76it/s]\n"
     ]
    }
   ],
   "source": [
    "import cv2 as cv\n",
    "import numpy as np\n",
    "import os\n",
    "from PIL import Image, ImageEnhance\n",
    "from tqdm import tqdm\n",
    "\n",
    "\n",
    "def preprop(path, path_save, factor_с=1.02, factor_b=1.1, factor_s=1.05):\n",
    "    img = cv.imread(path)\n",
    "    img = cv.cvtColor(img, cv.COLOR_BGR2GRAY)\n",
    "    img = cv.cvtColor(img, cv.COLOR_GRAY2BGR)\n",
    "    im = Image.fromarray(img)\n",
    "    enh_b = ImageEnhance.Brightness(im)\n",
    "    im_output = enh_b.enhance(factor_b)\n",
    "    enh_c = ImageEnhance.Contrast(im_output)\n",
    "    im_output = enh_c.enhance(factor_с)\n",
    "    enh_s = ImageEnhance.Sharpness(im)\n",
    "    im_output = enh_c.enhance(factor_s)\n",
    "    im_output.save(path_save)\n",
    "\n",
    "directory = 'train_recognition/images'\n",
    "files = os.listdir(directory)\n",
    "lf = len(files)\n",
    "\n",
    "for i in tqdm(range(lf)):\n",
    "    preprop(directory + '/' +files[i], 'gray_r/{}'.format(files[i].split('/')[-1]), 1.3, 1.2, 1)"
   ]
  },
  {
   "cell_type": "code",
   "execution_count": 40,
   "id": "d8e03ac8",
   "metadata": {},
   "outputs": [
    {
     "data": {
      "image/png": "[encoded data removed]",
      "text/plain": [
       "<Figure size 432x288 with 1 Axes>"
      ]
     },
     "metadata": {
      "needs_background": "light"
     },
     "output_type": "display_data"
    },
    {
     "data": {
      "image/png": "[encoded data removed]",
      "text/plain": [
       "<Figure size 432x288 with 1 Axes>"
      ]
     },
     "metadata": {
      "needs_background": "light"
     },
     "output_type": "display_data"
    }
   ],
   "source": [
    "from matplotlib import pyplot as plt\n",
    "import cv2\n",
    "\n",
    "\n",
    "def preprocess_image(img, factor_с=1.02, factor_b=1.1, factor_s=1.05):\n",
    "    img = np.asarray(img)\n",
    "    img = cv2.cvtColor(img, cv.COLOR_BGR2GRAY)\n",
    "    img = cv2.cvtColor(img, cv.COLOR_GRAY2BGR)\n",
    "    im = Image.fromarray(img)\n",
    "    enh_b = ImageEnhance.Brightness(im)\n",
    "    im_output = enh_b.enhance(factor_b)\n",
    "    enh_c = ImageEnhance.Contrast(im_output)\n",
    "    im_output = enh_c.enhance(factor_с)\n",
    "    enh_s = ImageEnhance.Sharpness(im)\n",
    "    im_output = enh_c.enhance(factor_s)\n",
    "    img = np.asarray(im_output)\n",
    "    return img\n",
    "\n",
    "for i in files:\n",
    "    plt.imshow(Image.open('train_recognition/images/' + i))\n",
    "    plt.show()    \n",
    "    plt.imshow(preprocess_image(Image.open('train_recognition/images/' + i)))\n",
    "    plt.show()\n",
    "    break"
   ]
  },
  {
   "cell_type": "code",
   "execution_count": null,
   "id": "a06846fb",
   "metadata": {},
   "outputs": [],
   "source": []
  }
 ],
 "metadata": {
  "kernelspec": {
   "display_name": "Python 3 (ipykernel)",
   "language": "python",
   "name": "python3"
  },
  "language_info": {
   "codemirror_mode": {
    "name": "ipython",
    "version": 3
   },
   "file_extension": ".py",
   "mimetype": "text/x-python",
   "name": "python",
   "nbconvert_exporter": "python",
   "pygments_lexer": "ipython3",
   "version": "3.7.12"
  }
 },
 "nbformat": 4,
 "nbformat_minor": 5
}
